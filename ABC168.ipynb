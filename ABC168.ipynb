{
 "cells": [
  {
   "cell_type": "markdown",
   "metadata": {},
   "source": [
    "A"
   ]
  },
  {
   "cell_type": "code",
   "execution_count": null,
   "metadata": {},
   "outputs": [],
   "source": [
    "N=int(input())\n",
    "n=N%10\n",
    "if n==3:\n",
    "    print(\"bon\")\n",
    "elif n==0 or n==1 or n==6 or n==8:\n",
    "    print(\"pon\")\n",
    "else:\n",
    "    print(\"hon\")"
   ]
  },
  {
   "cell_type": "markdown",
   "metadata": {},
   "source": [
    "B"
   ]
  },
  {
   "cell_type": "code",
   "execution_count": null,
   "metadata": {},
   "outputs": [],
   "source": [
    "K=int(input())\n",
    "S=input()\n",
    "ans=[]\n",
    "if K>=len(S):\n",
    "    print(S)\n",
    "else:\n",
    "    print(S[:K]+\"...\")"
   ]
  },
  {
   "cell_type": "markdown",
   "metadata": {},
   "source": [
    "C"
   ]
  },
  {
   "cell_type": "code",
   "execution_count": null,
   "metadata": {},
   "outputs": [],
   "source": [
    "import math\n",
    "A,B,H,M=map(int,input().split())\n",
    "a=30*H+M/2\n",
    "b=6*M\n",
    "c=abs(a-b)\n",
    "c=min(c,360-c)\n",
    "ans=A**2+B**2-2*A*B*math.cos(math.radians(c))\n",
    "ans=math.sqrt(ans)\n",
    "print(ans)"
   ]
  },
  {
   "cell_type": "markdown",
   "metadata": {},
   "source": [
    "D"
   ]
  },
  {
   "cell_type": "code",
   "execution_count": null,
   "metadata": {},
   "outputs": [],
   "source": [
    "N,M=map(int,input().split())\n",
    "tree=[[] for i in range(N)]\n",
    "ans=[0]*N\n",
    "ischecked=[0]*N\n",
    "ischecked[0]=1\n",
    "for i in range(M):\n",
    "    A,B=map(int,input().split())\n",
    "    tree[A-1].append(B-1)\n",
    "    tree[B-1].append(A-1)\n",
    "q=[0]\n",
    "while q:\n",
    "    now=q.pop(0)\n",
    "    for i in tree[now]:\n",
    "        if ischecked[i]==1:\n",
    "            continue\n",
    "        ans[i]=now+1\n",
    "        ischecked[i]=1\n",
    "        q.append(i)\n",
    "flag=0\n",
    "for i in range(1,N):\n",
    "    if ans[i]==0:\n",
    "        flag=1\n",
    "        break\n",
    "if flag==0:\n",
    "    print(\"Yes\")\n",
    "    for i in range(1,N):\n",
    "        print(ans[i])\n",
    "else:\n",
    "    print(\"No\")"
   ]
  },
  {
   "cell_type": "markdown",
   "metadata": {},
   "source": [
    "E"
   ]
  },
  {
   "cell_type": "code",
   "execution_count": null,
   "metadata": {},
   "outputs": [],
   "source": [
    "import math\n",
    "N=int(input())\n",
    "MOD=10**9+7\n",
    "fish={}\n",
    "ans=1\n",
    "a=0\n",
    "b=0\n",
    "w=0\n",
    "for i in range(N):\n",
    "    A,B=map(int,input().split())\n",
    "    if A==0 and B==0:\n",
    "        w+=1\n",
    "    elif A==0:\n",
    "        a+=1\n",
    "    elif B==0:\n",
    "        b+=1\n",
    "    else:\n",
    "        c=math.gcd(A,B)\n",
    "        A=A//c\n",
    "        B=B//c\n",
    "        if B<0:\n",
    "            A,B=-A,-B\n",
    "        k=(A,B)\n",
    "        if not k in fish:\n",
    "            fish[k]=0\n",
    "        fish[k]+=1\n",
    "group=set()\n",
    "for (p,q),v in fish.items():\n",
    "    invp,invq=-q,p\n",
    "    if invq<0:\n",
    "        invp,invq=-invp,-invq\n",
    "    if not (invp,invq) in group:\n",
    "        group.add((p,q))\n",
    "for p,q in group:\n",
    "    invp,invq=-q,p\n",
    "    if invq<0:\n",
    "        invp,invq=-invp,-invq\n",
    "    t=2**fish[p,q]\n",
    "    if (invp,invq) in fish:\n",
    "        t+=2**fish[invp,invq]-1\n",
    "    ans=(ans*t)%MOD\n",
    "ans*=2**a+2**b-1\n",
    "ans=ans+w-1\n",
    "print(ans%MOD)"
   ]
  }
 ],
 "metadata": {
  "kernelspec": {
   "display_name": "Python 3",
   "language": "python",
   "name": "python3"
  },
  "language_info": {
   "codemirror_mode": {
    "name": "ipython",
    "version": 3
   },
   "file_extension": ".py",
   "mimetype": "text/x-python",
   "name": "python",
   "nbconvert_exporter": "python",
   "pygments_lexer": "ipython3",
   "version": "3.7.7"
  }
 },
 "nbformat": 4,
 "nbformat_minor": 4
}
