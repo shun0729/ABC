{
 "cells": [
  {
   "cell_type": "markdown",
   "metadata": {},
   "source": [
    "A"
   ]
  },
  {
   "cell_type": "code",
   "execution_count": null,
   "metadata": {},
   "outputs": [],
   "source": [
    "a=int(input())\n",
    "ans=a+a*a+a**3\n",
    "print(ans)"
   ]
  },
  {
   "cell_type": "markdown",
   "metadata": {},
   "source": [
    "B"
   ]
  },
  {
   "cell_type": "code",
   "execution_count": null,
   "metadata": {},
   "outputs": [],
   "source": [
    "S=input()\n",
    "T=input()\n",
    "ans=0\n",
    "for i in range(len(S)):\n",
    "    if S[i]!=T[i]:\n",
    "        ans+=1\n",
    "print(ans)"
   ]
  },
  {
   "cell_type": "markdown",
   "metadata": {},
   "source": [
    "C"
   ]
  },
  {
   "cell_type": "code",
   "execution_count": null,
   "metadata": {},
   "outputs": [],
   "source": [
    "import bisect\n",
    "N,M,K=map(int,input().split())\n",
    "A=list(map(int,input().split()))\n",
    "B=list(map(int,input().split()))\n",
    "timea=[0]\n",
    "timeb=[0]\n",
    "time=0\n",
    "ans=0\n",
    "for i in range(N):\n",
    "    time+=A[i]\n",
    "    if time>K:\n",
    "        break\n",
    "    timea.append(time)\n",
    "time=0\n",
    "for i in range(M):\n",
    "    time+=B[i]\n",
    "    if time>K:\n",
    "        break\n",
    "    timeb.append(time)\n",
    "for i in range(len(timea)):\n",
    "    b=K-timea[i]\n",
    "    if b<0:\n",
    "        break\n",
    "    num=bisect.bisect_right(timeb,b)\n",
    "    num+=i-1\n",
    "    ans=max(ans,num)\n",
    "if ans==10**10:\n",
    "    print(0)\n",
    "else:\n",
    "    print(ans)"
   ]
  },
  {
   "cell_type": "markdown",
   "metadata": {},
   "source": [
    "D(pypy3)"
   ]
  },
  {
   "cell_type": "code",
   "execution_count": null,
   "metadata": {},
   "outputs": [],
   "source": [
    "N=int(input())\n",
    "count=[0]*(N+1)\n",
    "for i in range(2,N+1):\n",
    "    for j in range(i,N+1,i):\n",
    "      count[j]+=1\n",
    "ans=0\n",
    "for i in range(N+1):\n",
    "    ans+=i*(int(count[i])+1)\n",
    "print(ans)"
   ]
  }
 ],
 "metadata": {
  "kernelspec": {
   "display_name": "Python 3",
   "language": "python",
   "name": "python3"
  },
  "language_info": {
   "codemirror_mode": {
    "name": "ipython",
    "version": 3
   },
   "file_extension": ".py",
   "mimetype": "text/x-python",
   "name": "python",
   "nbconvert_exporter": "python",
   "pygments_lexer": "ipython3",
   "version": "3.7.7"
  }
 },
 "nbformat": 4,
 "nbformat_minor": 4
}
