{
 "cells": [
  {
   "cell_type": "markdown",
   "metadata": {},
   "source": [
    "A"
   ]
  },
  {
   "cell_type": "code",
   "execution_count": null,
   "metadata": {},
   "outputs": [],
   "source": [
    "A,B=map(int,input().split())\n",
    "print(A*B)"
   ]
  },
  {
   "cell_type": "markdown",
   "metadata": {},
   "source": [
    "B"
   ]
  },
  {
   "cell_type": "code",
   "execution_count": null,
   "metadata": {},
   "outputs": [],
   "source": [
    "N=int(input())\n",
    "A=list(map(int,input().split()))\n",
    "ans=1\n",
    "mod=10**18\n",
    "for i in A:\n",
    "    if i==0:\n",
    "        ans=0\n",
    "        break\n",
    "    elif i==1:\n",
    "        continue\n",
    "    elif ans!=-1:\n",
    "        ans=ans*i\n",
    "        if ans>mod:\n",
    "            ans=-1\n",
    "print(ans)"
   ]
  },
  {
   "cell_type": "markdown",
   "metadata": {},
   "source": [
    "C"
   ]
  },
  {
   "cell_type": "code",
   "execution_count": null,
   "metadata": {},
   "outputs": [],
   "source": [
    "A,B=input().split()\n",
    "A=int(A)\n",
    "ans=A*(int(B[0])*100+int(B[2])*10+int(B[3]))\n",
    "ans=int(ans//100)\n",
    "print(ans)"
   ]
  },
  {
   "cell_type": "markdown",
   "metadata": {},
   "source": [
    "D"
   ]
  },
  {
   "cell_type": "code",
   "execution_count": null,
   "metadata": {},
   "outputs": [],
   "source": [
    "N=int(input())\n",
    "ans=0\n",
    "def prime_factorize(n):\n",
    "    a = []\n",
    "    count=0\n",
    "    while n % 2 == 0:\n",
    "        count+=1\n",
    "        n //= 2\n",
    "    if count!=0:a.append(count)\n",
    "    f = 3\n",
    "    count=0\n",
    "    while f * f <= n:\n",
    "        if n % f == 0:\n",
    "            count+=1\n",
    "            n //= f\n",
    "        else:\n",
    "            f += 2\n",
    "            if count!=0:a.append(count)\n",
    "            count=0\n",
    "    if f==n:\n",
    "        count+=1\n",
    "        n=1\n",
    "    if count!=0:a.append(count)\n",
    "    if n != 1:\n",
    "        a.append(1)\n",
    "    return a\n",
    "c = prime_factorize(N)\n",
    "for i in range(len(c)):\n",
    "    a=c[i]\n",
    "    for j in range(1,c[i]+1):\n",
    "        if a>=j:\n",
    "            ans+=1\n",
    "            a-=j\n",
    "        else:\n",
    "            break\n",
    "print(ans)"
   ]
  },
  {
   "cell_type": "markdown",
   "metadata": {},
   "source": [
    "E"
   ]
  },
  {
   "cell_type": "code",
   "execution_count": null,
   "metadata": {},
   "outputs": [],
   "source": [
    "N=int(input())\n",
    "A=[]\n",
    "B=[]\n",
    "for i in range(N):\n",
    "    a,b=map(int,input().split())\n",
    "    A.append(a)\n",
    "    B.append(b)\n",
    "A.sort()\n",
    "B.sort()\n",
    "if N%2!=0:\n",
    "    n=(N+1)//2\n",
    "    ans=B[n-1]-A[n-1]+1\n",
    "else:\n",
    "    n=N//2\n",
    "    ans1=(A[n-1]+A[n])/2\n",
    "    ans2=(B[n-1]+B[n])/2\n",
    "    ans=(ans2-ans1)*2+1\n",
    "print(int(ans))"
   ]
  }
 ],
 "metadata": {
  "kernelspec": {
   "display_name": "Python 3",
   "language": "python",
   "name": "python3"
  },
  "language_info": {
   "codemirror_mode": {
    "name": "ipython",
    "version": 3
   },
   "file_extension": ".py",
   "mimetype": "text/x-python",
   "name": "python",
   "nbconvert_exporter": "python",
   "pygments_lexer": "ipython3",
   "version": "3.7.7"
  }
 },
 "nbformat": 4,
 "nbformat_minor": 4
}
