{
 "cells": [
  {
   "cell_type": "markdown",
   "metadata": {},
   "source": [
    "A"
   ]
  },
  {
   "cell_type": "code",
   "execution_count": null,
   "metadata": {},
   "outputs": [],
   "source": [
    "x=map(int,input().split())\n",
    "count=0\n",
    "for i in x:\n",
    "    count+=1\n",
    "    if i==0:\n",
    "        break\n",
    "print(count)"
   ]
  },
  {
   "cell_type": "markdown",
   "metadata": {},
   "source": [
    "B"
   ]
  },
  {
   "cell_type": "code",
   "execution_count": null,
   "metadata": {},
   "outputs": [],
   "source": [
    "X,Y=map(int,input().split())\n",
    "if Y>=2*X and (Y-2*X)%2==0:\n",
    "    a=(Y-2*X)//2\n",
    "    if a<=X:\n",
    "        print(\"Yes\")\n",
    "    else:\n",
    "        print(\"No\")\n",
    "else:\n",
    "    print(\"No\")"
   ]
  },
  {
   "cell_type": "markdown",
   "metadata": {},
   "source": [
    "C"
   ]
  },
  {
   "cell_type": "code",
   "execution_count": null,
   "metadata": {},
   "outputs": [],
   "source": [
    "X,N=map(int,input().split())\n",
    "p=list(map(int,input().split()))\n",
    "p.sort()\n",
    "ans=0\n",
    "ans1=X\n",
    "for i in range(1,102):\n",
    "    if i in p:\n",
    "        a=p.pop(0)\n",
    "        continue\n",
    "    A=abs(X-i)\n",
    "    if ans1>A:\n",
    "        ans1=A\n",
    "        ans=i\n",
    "    elif ans1==A:\n",
    "        ans=min(ans,i)\n",
    "    else:\n",
    "        break\n",
    "print(ans)"
   ]
  },
  {
   "cell_type": "markdown",
   "metadata": {},
   "source": [
    "D"
   ]
  },
  {
   "cell_type": "code",
   "execution_count": null,
   "metadata": {},
   "outputs": [],
   "source": [
    "import numpy as np\n",
    "\n",
    "N=int(input())\n",
    "A=np.array(input().split(),np.int32)\n",
    "\n",
    "count=np.zeros((A.max()+1))\n",
    "for a in A:\n",
    "    if count[a]>1:\n",
    "        continue\n",
    "    count[::a]+=1\n",
    "ans=0\n",
    "for i in A:\n",
    "    if count[i]==1:\n",
    "        ans+=1\n",
    "print(ans)"
   ]
  },
  {
   "cell_type": "code",
   "execution_count": null,
   "metadata": {},
   "outputs": [],
   "source": []
  }
 ],
 "metadata": {
  "kernelspec": {
   "display_name": "Python 3",
   "language": "python",
   "name": "python3"
  },
  "language_info": {
   "codemirror_mode": {
    "name": "ipython",
    "version": 3
   },
   "file_extension": ".py",
   "mimetype": "text/x-python",
   "name": "python",
   "nbconvert_exporter": "python",
   "pygments_lexer": "ipython3",
   "version": "3.7.7"
  }
 },
 "nbformat": 4,
 "nbformat_minor": 4
}
