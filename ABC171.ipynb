{
 "cells": [
  {
   "cell_type": "markdown",
   "metadata": {},
   "source": [
    "A"
   ]
  },
  {
   "cell_type": "code",
   "execution_count": null,
   "metadata": {},
   "outputs": [],
   "source": [
    "import string\n",
    "a=string.ascii_uppercase\n",
    "A=input()\n",
    "flag=0\n",
    "for i in a:\n",
    "    if i==A:\n",
    "        flag=1\n",
    "        break\n",
    "if flag==0:\n",
    "    print(\"a\")\n",
    "else:\n",
    "    print(\"A\")"
   ]
  },
  {
   "cell_type": "markdown",
   "metadata": {},
   "source": [
    "B"
   ]
  },
  {
   "cell_type": "code",
   "execution_count": null,
   "metadata": {},
   "outputs": [],
   "source": [
    "N,K=map(int,input().split())\n",
    "p=list(map(int,input().split()))\n",
    "p.sort()\n",
    "ans=0\n",
    "for i in range(K):\n",
    "    ans+=p[i]\n",
    "print(ans)"
   ]
  },
  {
   "cell_type": "markdown",
   "metadata": {},
   "source": [
    "C"
   ]
  },
  {
   "cell_type": "code",
   "execution_count": null,
   "metadata": {},
   "outputs": [],
   "source": [
    "import string\n",
    "a=string.ascii_lowercase\n",
    "N=int(input())\n",
    "ans=[]\n",
    "count=1\n",
    "n=26\n",
    "s=0\n",
    "while N>n:\n",
    "    count+=1\n",
    "    s=n\n",
    "    n+=26**count\n",
    "N-=s+1\n",
    "for i in range(count):\n",
    "    n=N//26\n",
    "    m=N%26\n",
    "    ans.append(a[m])\n",
    "    N=n\n",
    "Ans=[]\n",
    "for i in range(len(ans)):\n",
    "    Ans.append(ans[len(ans)-i-1])\n",
    "print(\"\".join(Ans))"
   ]
  },
  {
   "cell_type": "markdown",
   "metadata": {},
   "source": [
    "D"
   ]
  },
  {
   "cell_type": "code",
   "execution_count": null,
   "metadata": {},
   "outputs": [],
   "source": [
    "N=int(input())\n",
    "A=list(map(int,input().split()))\n",
    "a=[0]*(10**5+1)\n",
    "num=0\n",
    "for i in range(N):\n",
    "    s=A[i]\n",
    "    a[s]+=1\n",
    "    num+=s\n",
    "Q=int(input())\n",
    "ans=[]\n",
    "for i in range(Q):\n",
    "    B,C=map(int,input().split())\n",
    "    a[C]+=a[B]\n",
    "    num+=(C-B)*a[B]\n",
    "    a[B]=0\n",
    "    ans.append(num)\n",
    "for i in ans:\n",
    "    print(i)"
   ]
  },
  {
   "cell_type": "markdown",
   "metadata": {},
   "source": [
    "E"
   ]
  },
  {
   "cell_type": "code",
   "execution_count": null,
   "metadata": {},
   "outputs": [],
   "source": [
    "N = int(input())\n",
    "A = list(map(int, input().split()))\n",
    "x = 0\n",
    "ans=[]\n",
    "for a in A:\n",
    "    x ^= a\n",
    "for i in A:\n",
    "    ans.append(x^i)\n",
    "print(*ans)"
   ]
  }
 ],
 "metadata": {
  "kernelspec": {
   "display_name": "Python 3",
   "language": "python",
   "name": "python3"
  },
  "language_info": {
   "codemirror_mode": {
    "name": "ipython",
    "version": 3
   },
   "file_extension": ".py",
   "mimetype": "text/x-python",
   "name": "python",
   "nbconvert_exporter": "python",
   "pygments_lexer": "ipython3",
   "version": "3.7.7"
  }
 },
 "nbformat": 4,
 "nbformat_minor": 4
}
